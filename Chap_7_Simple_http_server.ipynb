{
 "cells": [
  {
   "cell_type": "code",
   "execution_count": null,
   "metadata": {},
   "outputs": [],
   "source": [
    "import socket\n",
    "def createserver():\n",
    "    server_socket=socket.socket()\n",
    "    server_socket.bind(('localhost',9000))\n",
    "    server_socket.listen()\n",
    "    while True:\n",
    "        conn,addr=server_socket.accept()\n",
    "        rd=conn.recv(1024).decode()\n",
    "        print(rd)\n",
    "        data=\"HTTP/1.1 200 OK\\r\\n\"\n",
    "        data+=\"Content-Type: text/html; charset=utf-8\\r\\n\"\n",
    "        data+=\"\\r\\n\"\n",
    "        data+=\"<html><body>Hello World</body></html>\\r\\n\\r\\n\"\n",
    "        conn.send(data.encode())\n",
    "    server.socket.close()\n",
    "print(\"Access http://localhost:9000\")\n",
    "createserver()"
   ]
  },
  {
   "cell_type": "code",
   "execution_count": null,
   "metadata": {},
   "outputs": [],
   "source": []
  }
 ],
 "metadata": {
  "kernelspec": {
   "display_name": "Python 3",
   "language": "python",
   "name": "python3"
  },
  "language_info": {
   "codemirror_mode": {
    "name": "ipython",
    "version": 3
   },
   "file_extension": ".py",
   "mimetype": "text/x-python",
   "name": "python",
   "nbconvert_exporter": "python",
   "pygments_lexer": "ipython3",
   "version": "3.8.5"
  }
 },
 "nbformat": 4,
 "nbformat_minor": 4
}
