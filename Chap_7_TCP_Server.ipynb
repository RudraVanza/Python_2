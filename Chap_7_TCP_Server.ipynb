{
 "cells": [
  {
   "cell_type": "code",
   "execution_count": 1,
   "metadata": {},
   "outputs": [
    {
     "name": "stdout",
     "output_type": "stream",
     "text": [
      "Connection From :('192.168.110.25', 54857)\n",
      "Recerve From Clint : hyy\n",
      "Enter Message From Server ---->bol\n",
      "Recerve From Clint : ny\n",
      "Enter Message From Server ---->cd\n"
     ]
    }
   ],
   "source": [
    "import socket\n",
    "host = socket.gethostname()\n",
    "port = 7\n",
    "server_socket = socket.socket()\n",
    "server_socket.bind((host,port))\n",
    "server_socket.listen()\n",
    "conn , address = server_socket.accept()\n",
    "print(\"Connection From :\"+ str(address))\n",
    "while True:\n",
    "    data = conn.recv(1024).decode()\n",
    "    if not data :\n",
    "        break\n",
    "    print(f\"Recerve From Clint : \"+str(data))\n",
    "    data = input(\"Enter Message From Server ---->\")\n",
    "    conn.send(data.encode())\n",
    "conn.close()"
   ]
  }
 ],
 "metadata": {
  "kernelspec": {
   "display_name": "Python 3",
   "language": "python",
   "name": "python3"
  },
  "language_info": {
   "codemirror_mode": {
    "name": "ipython",
    "version": 3
   },
   "file_extension": ".py",
   "mimetype": "text/x-python",
   "name": "python",
   "nbconvert_exporter": "python",
   "pygments_lexer": "ipython3",
   "version": "3.8.5"
  }
 },
 "nbformat": 4,
 "nbformat_minor": 2
}
