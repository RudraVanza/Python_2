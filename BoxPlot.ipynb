{
 "cells": [
  {
   "cell_type": "code",
   "execution_count": null,
   "metadata": {},
   "outputs": [],
   "source": [
    "# Box plots\n",
    "\n",
    "import numpy as np\n",
    "import pandas as pd\n",
    "import matplotlib.pyplot as plt\n",
    "\n",
    "data=np.random.rand(100)\n",
    "print(data)"
   ]
  },
  {
   "cell_type": "code",
   "execution_count": null,
   "metadata": {},
   "outputs": [],
   "source": [
    "plt.boxplot(data,widths=0.75,notch=True)\n",
    "plt.show()"
   ]
  },
  {
   "cell_type": "code",
   "execution_count": null,
   "metadata": {},
   "outputs": [],
   "source": [
    "df=pd.DataFrame(data)\n",
    "df.describe()"
   ]
  },
  {
   "cell_type": "code",
   "execution_count": null,
   "metadata": {},
   "outputs": [],
   "source": [
    "df=pd.read_csv(\"auto-mpg.csv\")\n",
    "df"
   ]
  },
  {
   "cell_type": "code",
   "execution_count": null,
   "metadata": {},
   "outputs": [],
   "source": [
    "plt.boxplot(df['mpg'],widths=0.75,notch=True)\n",
    "plt.show()"
   ]
  },
  {
   "cell_type": "code",
   "execution_count": null,
   "metadata": {},
   "outputs": [],
   "source": [
    "plt.boxplot(df['acceleration'],widths=0.75,notch=True)\n",
    "plt.show()"
   ]
  },
  {
   "cell_type": "code",
   "execution_count": null,
   "metadata": {},
   "outputs": [],
   "source": [
    "plt.boxplot(df['weight'],widths=0.75,notch=True)\n",
    "plt.show()"
   ]
  },
  {
   "cell_type": "code",
   "execution_count": null,
   "metadata": {},
   "outputs": [],
   "source": [
    "# scatter plot\n",
    "\n",
    "x1=5*np.random.rand(50)\n",
    "x2=5*np.random.rand(50)+25\n",
    "x3=30*np.random.rand(50)\n",
    "\n",
    "x=np.concatenate((x1,x2,x3))\n",
    "print(x)"
   ]
  },
  {
   "cell_type": "code",
   "execution_count": null,
   "metadata": {},
   "outputs": [],
   "source": [
    "y1=5*np.random.rand(50)\n",
    "y2=5*np.random.rand(50)+25\n",
    "y3=30*np.random.rand(50)\n",
    "\n",
    "y=np.concatenate((y1,y2,y3))\n",
    "print(y)"
   ]
  },
  {
   "cell_type": "code",
   "execution_count": null,
   "metadata": {},
   "outputs": [],
   "source": [
    "plt.scatter(x,y,s=[100],marker=\"^\",c='k')\n",
    "plt.show()"
   ]
  },
  {
   "cell_type": "code",
   "execution_count": null,
   "metadata": {},
   "outputs": [],
   "source": [
    "x1=5*np.random.rand(50)\n",
    "x2=5*np.random.rand(50)+25\n",
    "x3=30*np.random.rand(50)\n",
    "\n",
    "x=np.concatenate((x1,x2,x3))\n",
    "print(\"x:\",x)\n",
    "\n",
    "y1=5*np.random.rand(50)\n",
    "y2=5*np.random.rand(50)+25\n",
    "y3=30*np.random.rand(50)\n",
    "\n",
    "y=np.concatenate((y1,y2,y3))\n",
    "print(\"y:\",y)\n",
    "\n",
    "color_array=['b']*50+['g']*50+['r']*50\n",
    "plt.scatter(x,y,s=[50],marker=\"D\",c=color_array)\n",
    "plt.show()"
   ]
  },
  {
   "cell_type": "code",
   "execution_count": null,
   "metadata": {},
   "outputs": [],
   "source": [
    "# area plot\n",
    "\n",
    "x=[1,2,3,4,5]\n",
    "y=[1,4,6,8,4]\n",
    "\n",
    "plt.fill_between(x,y,color=\"pink\",alpha=0.4)\n",
    "plt.show()"
   ]
  },
  {
   "cell_type": "code",
   "execution_count": null,
   "metadata": {},
   "outputs": [],
   "source": [
    "import numpy as np\n",
    "import pandas as pd\n",
    "import matplotlib.pyplot as plt\n",
    "\n",
    "time=[1,2,3,4,5,6,7,8,9,10,11,12]\n",
    "income=np.array([5,9,6,6,10,7,6,4,4,5,6,4])\n",
    "expenses=np.array([6,6,8,3,6,9,7,8,6,6,4,8])\n",
    "plt.figure(figsize=(8,8))\n",
    "plt.plot(time,income,color=\"green\")\n",
    "plt.plot(time,expenses,color=\"red\")"
   ]
  },
  {
   "cell_type": "code",
   "execution_count": null,
   "metadata": {},
   "outputs": [],
   "source": [
    "plt.fill_between(time,income,expenses,where=(income>expenses),color=\"green\",alpha=0.25,label=\"Positive\",interpolate=True)\n",
    "plt.fill_between(time,income,expenses,where=(income<expenses),color=\"red\",alpha=0.5,label=\"Negative\",interpolate=True)\n",
    "plt.xlabel(\"time\")\n",
    "plt.ylabel(\"income/expenses comparison\")\n",
    "plt.xticks(range(1,3))\n",
    "plt.legend()\n",
    "plt.show()"
   ]
  },
  {
   "cell_type": "code",
   "execution_count": null,
   "metadata": {},
   "outputs": [],
   "source": [
    "# stack areachat\n",
    "\n",
    "x=[1,2,3,4,5]\n",
    "y1=[4,8,16,8,9]\n",
    "y2=[0,2,7,10,12]\n",
    "y3=[0,2,5,10,6]\n",
    "\n",
    "plt.stackplot(x,y1,y2,y3,labels=[\"y1\",\"y2\",\"y3\"],colors=[\"r\",\"b\",\"g\"])\n",
    "plt.legend(loc=\"upper left\")\n",
    "plt.xlabel(\"x\")\n",
    "plt.xticks([1,2,3,4,5])\n",
    "plt.show()"
   ]
  },
  {
   "cell_type": "code",
   "execution_count": null,
   "metadata": {},
   "outputs": [],
   "source": [
    "\n",
    "x=[1,2,3,4,5,6,7,8]\n",
    "y1=[2,2,2,2,2,2,2,2]\n",
    "y2=[2,2,2,2,2,2,2,2]\n",
    "y3=[2,2,2,2,2,2,2,2]\n",
    "\n",
    "plt.stackplot(x,y1,y2,y3,labels=[\"y1\",\"y2\",\"y3\"],colors=[\"green\",\"white\",\"orange\"])\n",
    "plt.legend(loc=\"upper left\")\n",
    "plt.xlabel(\"x\")\n",
    "plt.xticks([1,2,3,4,5,6,7,8])\n",
    "plt.show()"
   ]
  },
  {
   "cell_type": "markdown",
   "metadata": {},
   "source": [
    "# Regression Plot"
   ]
  },
  {
   "cell_type": "code",
   "execution_count": null,
   "metadata": {},
   "outputs": [],
   "source": [
    "import seaborn as sns\n",
    "import pandas as pd\n",
    "import matplotlib.pyplot as plt\n",
    "df = pd.read_csv(\"auto-mpg.csv\")\n",
    "plt.figure(figsize = (15,10))\n",
    "sns.regplot(x='mpg',y=\"acceleration\",data=df,color='green',marker = '4')\n",
    "plt.show()"
   ]
  },
  {
   "cell_type": "markdown",
   "metadata": {},
   "source": [
    "# Waffle"
   ]
  },
  {
   "cell_type": "code",
   "execution_count": 7,
   "metadata": {},
   "outputs": [
    {
     "data": {
      "image/png": "[encoded data removed]",
      "text/plain": [
       "<Waffle size 432x288 with 1 Axes>"
      ]
     },
     "metadata": {
      "needs_background": "light"
     },
     "output_type": "display_data"
    }
   ],
   "source": [
    "import pandas as pd\n",
    "import matplotlib.pyplot as plt\n",
    "from pywaffle import Waffle\n",
    "\n",
    "# Create the DataFrame\n",
    "data = {'phone' : ['Apple','Samsung','Nokia','Tata','Balaji'], 'Stock' : [44,25,14,58,63]}\n",
    "df = pd.DataFrame(data)\n",
    "figure = plt.figure(FigureClass = Waffle,rows = 10 , values = df.Stock , labels = list(df.phone))\n",
    "plt.show()"
   ]
  },
  {
   "cell_type": "code",
   "execution_count": null,
   "metadata": {},
   "outputs": [],
   "source": []
  }
 ],
 "metadata": {
  "kernelspec": {
   "display_name": "Python 3",
   "language": "python",
   "name": "python3"
  },
  "language_info": {
   "codemirror_mode": {
    "name": "ipython",
    "version": 3
   },
   "file_extension": ".py",
   "mimetype": "text/x-python",
   "name": "python",
   "nbconvert_exporter": "python",
   "pygments_lexer": "ipython3",
   "version": "3.8.5"
  }
 },
 "nbformat": 4,
 "nbformat_minor": 4
}
