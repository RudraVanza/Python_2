{
 "cells": [
  {
   "cell_type": "code",
   "execution_count": null,
   "metadata": {},
   "outputs": [],
   "source": [
    "!pip install folium"
   ]
  },
  {
   "cell_type": "code",
   "execution_count": null,
   "metadata": {},
   "outputs": [],
   "source": [
    "import folium\n",
    "\n",
    "# Create a map centered on Ahmedabad, India with a zoom level of 11\n",
    "world_map = folium.Map(location=[23.033863, 72.585022], zoom_start=11)\n",
    "\n",
    "# Display the map\n",
    "world_map\n"
   ]
  },
  {
   "cell_type": "code",
   "execution_count": null,
   "metadata": {
    "scrolled": true
   },
   "outputs": [],
   "source": [
    "# 23.033863° N, 72.585022° E (Ahmedabad)\n",
    "world_map = folium.Map(location = [23.033863,72.585022],zoom_start = 11) #latitude(N = +ve,S = -Ve), longitude(E=+ve , W = -ve)\n",
    "world_map"
   ]
  },
  {
   "cell_type": "code",
   "execution_count": null,
   "metadata": {},
   "outputs": [],
   "source": [
    "import folium\n",
    "\n",
    "# Create the map centered on the coordinates\n",
    "world_map = folium.Map(location=[23.033863, 72.585022], zoom_start=11)\n",
    "\n",
    "# Create a FeatureGroup\n",
    "ahm = folium.FeatureGroup(name=\"Ahmadabad\")\n",
    "\n",
    "# Add a CircleMarker to the FeatureGroup\n",
    "ahm.add_child(folium.features.CircleMarker([23.033863, 72.585022], radius=50, color=\"red\",fill = True,fill_color = \"blue\"))\n",
    "\n",
    "# Add the FeatureGroup to the map\n",
    "world_map.add_child(ahm)\n",
    "\n",
    "# Display the map\n",
    "world_map"
   ]
  },
  {
   "cell_type": "code",
   "execution_count": null,
   "metadata": {},
   "outputs": [],
   "source": [
    "import folium\n",
    "\n",
    "# Define the map centered around Ahmedabad\n",
    "world_map = folium.Map(location=[23.033863, 72.585022], zoom_start=12)\n",
    "\n",
    "# Add the marker with the label\n",
    "label = \"Ahmedabad\"\n",
    "folium.Marker([23.033863, 72.585022], popup=label).add_to(world_map)\n",
    "\n",
    "# Display the map\n",
    "world_map\n"
   ]
  },
  {
   "cell_type": "code",
   "execution_count": null,
   "metadata": {},
   "outputs": [],
   "source": []
  }
 ],
 "metadata": {
  "kernelspec": {
   "display_name": "Python 3",
   "language": "python",
   "name": "python3"
  },
  "language_info": {
   "codemirror_mode": {
    "name": "ipython",
    "version": 3
   },
   "file_extension": ".py",
   "mimetype": "text/x-python",
   "name": "python",
   "nbconvert_exporter": "python",
   "pygments_lexer": "ipython3",
   "version": "3.8.5"
  }
 },
 "nbformat": 4,
 "nbformat_minor": 4
}
