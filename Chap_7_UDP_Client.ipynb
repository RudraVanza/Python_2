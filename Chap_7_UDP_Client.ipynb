{
 "cells": [
  {
   "cell_type": "code",
   "execution_count": 3,
   "metadata": {},
   "outputs": [
    {
     "name": "stdout",
     "output_type": "stream",
     "text": [
      "Recive From Server :-  ksma;v \n",
      "Recive From Server :-  vksd\n",
      "Recive From Server :-  vadm\n"
     ]
    }
   ],
   "source": [
    "import socket\n",
    "host = socket.gethostname()  # or 'localhost'\n",
    "port = 18\n",
    "client_socket = socket.socket(type=socket.SOCK_DGRAM)  #type=socket.SOCK_DGRAM for create UDP type Connection\n",
    "while True :\n",
    "    message = input(\"Enter Clint Side Message Here :- \")\n",
    "    if not message :\n",
    "        break\n",
    "    client_socket.sendto(message.encode(),(host,port))\n",
    "    data , add = client_socket.recvfrom(1024)\n",
    "    if not data :\n",
    "        break\n",
    "    print(\"Recive From Server :- \",data.decode())\n",
    "client_socket.close()"
   ]
  }
 ],
 "metadata": {
  "kernelspec": {
   "display_name": "base",
   "language": "python",
   "name": "python3"
  },
  "language_info": {
   "codemirror_mode": {
    "name": "ipython",
    "version": 3
   },
   "file_extension": ".py",
   "mimetype": "text/x-python",
   "name": "python",
   "nbconvert_exporter": "python",
   "pygments_lexer": "ipython3",
   "version": "3.8.5"
  }
 },
 "nbformat": 4,
 "nbformat_minor": 2
}
