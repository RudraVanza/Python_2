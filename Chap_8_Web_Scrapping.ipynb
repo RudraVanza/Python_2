{
 "cells": [
  {
   "cell_type": "markdown",
   "metadata": {},
   "source": [
    "Api Key :- 12fbda28d403fa5192821f78a33e9914"
   ]
  },
  {
   "cell_type": "code",
   "execution_count": 4,
   "metadata": {},
   "outputs": [],
   "source": [
    "api_key = \"12fbda28d403fa5192821f78a33e9914\""
   ]
  },
  {
   "cell_type": "markdown",
   "metadata": {},
   "source": [
    "# 1. GEOCODING API"
   ]
  },
  {
   "cell_type": "code",
   "execution_count": null,
   "metadata": {},
   "outputs": [],
   "source": [
    "import json,requests\n",
    "city = input(\"Enter City Name :- \")\n",
    "url = \"http://api.openweathermap.org/geo/1.0/direct?q=\"+city+\"&appid=\"+api_key    #OR\n",
    "# url = f\"http://api.openweathermap.org/geo/1.0/direct?q={city},&appid={api_key}\"\n",
    "response = requests.get(url)\n",
    "cordinates = response.json() \n",
    "cordinates\n",
    "lat = cordinates[0]['lat']\n",
    "lon = cordinates[0]['lon']\n",
    "print(f\"let :- {lat} , lon :- {lon}\")\n"
   ]
  },
  {
   "cell_type": "markdown",
   "metadata": {},
   "source": [
    "# 2. Current Wather Data"
   ]
  },
  {
   "cell_type": "code",
   "execution_count": null,
   "metadata": {},
   "outputs": [],
   "source": [
    "url= f\"https://api.openweathermap.org/data/2.5/weather?lat={lat}&lon={lon}&units=metric&appid={api_key}\" #units=metric for fernhit to celcius\n",
    "response = requests.get(url)\n",
    "current_wather = response.json()\n",
    "print(json.dumps(current_wather , indent = 5))\n",
    "print(current_wather[\"weather\"][0][\"main\"])\n",
    "pressure = current_wather[\"main\"][ \"pressure\"]\n",
    "temp = current_wather[\"main\"][\"temp\"]\n",
    "humidity = current_wather[\"main\"][\"humidity\"]\n",
    "visibility = current_wather[ \"visibility\"]\n",
    "print(f\"pressure :- {pressure} \\n temp :- {temp} \\n humidity :- {humidity} \\n visibility :- {visibility} \")"
   ]
  },
  {
   "cell_type": "markdown",
   "metadata": {},
   "source": [
    "# 3. Air Pollution Api"
   ]
  },
  {
   "cell_type": "code",
   "execution_count": null,
   "metadata": {},
   "outputs": [],
   "source": [
    "url = f\"http://api.openweathermap.org/data/2.5/air_pollution?lat={lat}&lon={lon}&appid={api_key}\"\n",
    "response = requests.get(url)\n",
    "airPolution = response.json()\n",
    "print(json.dumps(airPolution,indent=5))\n",
    "aqi = airPolution[\"list\"][0][\"main\"][\"aqi\"]\n",
    "des = {1 : \"Good\" , 2 : \"Fair\" , 3 : \"Moderate\" , 4 : \"Poor\" , 5 : \"Very Poor\"}\n",
    "qua = des[aqi]\n",
    "print(f\"Quality of air is {qua}\")"
   ]
  },
  {
   "cell_type": "markdown",
   "metadata": {},
   "source": [
    "# 4. 5-day weather forecast"
   ]
  },
  {
   "cell_type": "code",
   "execution_count": null,
   "metadata": {},
   "outputs": [],
   "source": [
    "import pandas as pd\n",
    "url = f\"http://api.openweathermap.org/data/2.5/forecast?lat={lat}&lon={lon}&appid={api_key}\"\n",
    "response = requests.get(url)\n",
    "fiveday = response.json()\n",
    "print(json.dumps(fiveday , indent=5))\n",
    "# Date & Time , Tamp , prassure , humidity , discription , \n",
    "d = {\"date_time\":[] , \"temp\":[] ,\"pressure\":[] , \"humidity\" : [] , \"descreption\" : []}\n",
    "for i in fiveday[\"list\"]:\n",
    "    d[\"date_time\"].append(i[\"dt_txt\"])\n",
    "    d[\"temp\"].append(i[\"main\"][\"temp\"])\n",
    "    d[\"pressure\"].append(i[\"main\"][\"pressure\"])\n",
    "    d[\"humidity\"].append(i[\"main\"][\"humidity\"])\n",
    "    d[\"descreption\"].append(i[\"weather\"][0][\"description\"])\n",
    "df = pd.DataFrame(d)\n",
    "print(df)"
   ]
  }
 ],
 "metadata": {
  "kernelspec": {
   "display_name": "Python 3",
   "language": "python",
   "name": "python3"
  },
  "language_info": {
   "codemirror_mode": {
    "name": "ipython",
    "version": 3
   },
   "file_extension": ".py",
   "mimetype": "text/x-python",
   "name": "python",
   "nbconvert_exporter": "python",
   "pygments_lexer": "ipython3",
   "version": "3.12.6"
  }
 },
 "nbformat": 4,
 "nbformat_minor": 2
}
