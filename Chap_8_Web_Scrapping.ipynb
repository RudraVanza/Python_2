{
 "cells": [
  {
   "cell_type": "markdown",
   "metadata": {},
   "source": [
    "Api Key :- 12fbda28d403fa5192821f78a33e9914"
   ]
  },
  {
   "cell_type": "code",
   "execution_count": 4,
   "metadata": {},
   "outputs": [],
   "source": [
    "api_key = \"12fbda28d403fa5192821f78a33e9914\""
   ]
  },
  {
   "cell_type": "markdown",
   "metadata": {},
   "source": [
    "# 1. GEOCODING API"
   ]
  },
  {
   "cell_type": "code",
   "execution_count": 20,
   "metadata": {},
   "outputs": [
    {
     "name": "stdout",
     "output_type": "stream",
     "text": [
      "let :- 23.0216238 , lon :- 72.5797068\n"
     ]
    }
   ],
   "source": [
    "import json,requests\n",
    "city = input(\"Enter City Name :- \")\n",
    "url = \"http://api.openweathermap.org/geo/1.0/direct?q=\"+city+\"&appid=\"+api_key    #OR\n",
    "# url = f\"http://api.openweathermap.org/geo/1.0/direct?q={city},&appid={api_key}\"\n",
    "response = requests.get(url)\n",
    "cordinates = response.json() \n",
    "cordinates\n",
    "lat = cordinates[0]['lat']\n",
    "lon = cordinates[0]['lon']\n",
    "print(f\"let :- {lat} , lon :- {lon}\")\n"
   ]
  },
  {
   "cell_type": "markdown",
   "metadata": {},
   "source": [
    "# 2. Current Wather Data"
   ]
  },
  {
   "cell_type": "code",
   "execution_count": 21,
   "metadata": {},
   "outputs": [],
   "source": [
    "url= f\"https://api.openweathermap.org/data/2.5/weather?lat={lat}&lon={lon}&appid={api_key}\"\n",
    "response = requests.get(url)\n",
    "current_wather = response.json()"
   ]
  }
 ],
 "metadata": {
  "kernelspec": {
   "display_name": "Python 3",
   "language": "python",
   "name": "python3"
  },
  "language_info": {
   "codemirror_mode": {
    "name": "ipython",
    "version": 3
   },
   "file_extension": ".py",
   "mimetype": "text/x-python",
   "name": "python",
   "nbconvert_exporter": "python",
   "pygments_lexer": "ipython3",
   "version": "3.12.6"
  }
 },
 "nbformat": 4,
 "nbformat_minor": 2
}
