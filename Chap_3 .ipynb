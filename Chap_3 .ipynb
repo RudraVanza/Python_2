{
 "cells": [
  {
   "cell_type": "markdown",
   "metadata": {},
   "source": [
    "# Regular Expression [ 5 Marks ]\n",
    "    1> Findall()\n",
    "    2> Search()\n",
    "    3> Split()\n",
    "    4> Sub()"
   ]
  },
  {
   "cell_type": "code",
   "execution_count": 74,
   "metadata": {},
   "outputs": [
    {
     "name": "stdout",
     "output_type": "stream",
     "text": [
      "The pain in Spain\n"
     ]
    }
   ],
   "source": [
    "import re\n",
    "s =\"The rain in Spain\"\n",
    "\n",
    "#findall\n",
    "# f = re.findall('ai' , s)\n",
    "# print(f)\n",
    "# x = re.findall('[arn]',s)\n",
    "# x\n",
    "# Z = re.findall('z',s)\n",
    "# Z\n",
    "\n",
    "#search\n",
    "# y = re.search('r',s)\n",
    "# print(y)\n",
    "# print(y.start())\n",
    "# y1 = re.search('Rudra',s)\n",
    "# print(y1)\n",
    " \n",
    "# Split\n",
    "# sp = re.split('\\s' , s)\n",
    "# sp = re.split('\\s' , s , 1)\n",
    "# print(sp)\n",
    "\n",
    "# Sub\n",
    "# sub = re.sub(\"rain\" , \"pain\" , s)\n",
    "# print(sub)"
   ]
  }
 ],
 "metadata": {
  "kernelspec": {
   "display_name": "Python 3",
   "language": "python",
   "name": "python3"
  },
  "language_info": {
   "codemirror_mode": {
    "name": "ipython",
    "version": 3
   },
   "file_extension": ".py",
   "mimetype": "text/x-python",
   "name": "python",
   "nbconvert_exporter": "python",
   "pygments_lexer": "ipython3",
   "version": "3.8.5"
  }
 },
 "nbformat": 4,
 "nbformat_minor": 4
}
