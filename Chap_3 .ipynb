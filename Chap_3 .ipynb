{
 "cells": [
  {
   "cell_type": "markdown",
   "metadata": {},
   "source": [
    "# Regular Expression [ 5 Marks ]\n",
    "    1> Findall()\n",
    "    2> Search()\n",
    "    3> Split()\n",
    "    4> Sub()"
   ]
  },
  {
   "cell_type": "code",
   "execution_count": null,
   "metadata": {},
   "outputs": [],
   "source": [
    "import re\n",
    "s =\"The rain in Spain\"\n",
    "\n",
    "#findall\n",
    "# f = re.findall('ai' , s)\n",
    "# print(f)\n",
    "# x = re.findall('[arn]',s)\n",
    "# x\n",
    "# Z = re.findall('z',s)\n",
    "# Z\n",
    "\n",
    "#search\n",
    "# y = re.search('r',s)\n",
    "# print(y)\n",
    "# print(y.start())\n",
    "# y1 = re.search('Rudra',s)\n",
    "# print(y1)\n",
    " \n",
    "# Split\n",
    "# sp = re.split('\\s' , s)\n",
    "# sp = re.split('\\s' , s , 1)\n",
    "# print(sp)\n",
    "\n",
    "# Sub\n",
    "# sub = re.sub(\"rain\" , \"pain\" , s)\n",
    "# print(sub)"
   ]
  },
  {
   "cell_type": "code",
   "execution_count": null,
   "metadata": {},
   "outputs": [],
   "source": [
    "#  Write a Py code that match a string that has 'a' followed by 'b'\n",
    "import re\n",
    "def test(s):\n",
    "    patten = \"ab?\"\n",
    "    if re.search(patten,s):\n",
    "        return \"Found!!!!\"\n",
    "    else : \n",
    "        return \"Not Found!!!!\"\n",
    "print(test('ab'))\n",
    "print(test('abc'))\n",
    "print(test('babbb '))"
   ]
  },
  {
   "cell_type": "code",
   "execution_count": null,
   "metadata": {},
   "outputs": [],
   "source": [
    "# Write Py code that matches a String that has 'a' followed by 2 or 3 'b'\n",
    "import re\n",
    "def test(s):\n",
    "    patten = \"ab{2,3}\"\n",
    "    if re.search(patten,s):\n",
    "        return \"Found!!!!\"\n",
    "    else : \n",
    "        return \"Not Found!!!!\"\n",
    "print(test('abbbcv'))"
   ]
  },
  {
   "cell_type": "code",
   "execution_count": null,
   "metadata": {},
   "outputs": [],
   "source": [
    "# Write a py code for find the sequence of one uppercase letter followed by lowercase letter\n",
    "import re\n",
    "def test(s):\n",
    "    patten = \"[A-Z]+[a-z]+$\"\n",
    "    if re.search(patten,s):\n",
    "        return \"Found!!!!\"\n",
    "    else : \n",
    "        return \"Not Found!!!!\"\n",
    "print(test('AbAb'))"
   ]
  },
  {
   "cell_type": "code",
   "execution_count": null,
   "metadata": {},
   "outputs": [],
   "source": [
    "# Write a py code that match a string that has small 'a' followed by anything & ending by 'b' \n",
    "import re\n",
    "def test(s):\n",
    "    patten = \"^a.*b$\"\n",
    "    if re.search(patten,s):\n",
    "        return \"Found!!!!\"\n",
    "    else : \n",
    "        return \"Not Found!!!!\"\n",
    "print(test('advsdvhvb'))"
   ]
  },
  {
   "cell_type": "code",
   "execution_count": null,
   "metadata": {},
   "outputs": [],
   "source": [
    "# Write a py code that match word containing 'z'\n",
    "import re\n",
    "def test(s):\n",
    "    patten = \"[a-z]*z+[a-z]*\"\n",
    "    if re.search(patten,s):\n",
    "        return \"Found!!!!\"\n",
    "    else : \n",
    "        return \"Not Found!!!!\"\n",
    "print(test('z'))"
   ]
  },
  {
   "cell_type": "code",
   "execution_count": 9,
   "metadata": {},
   "outputs": [
    {
     "name": "stdout",
     "output_type": "stream",
     "text": [
      "Not Found!!!!\n"
     ]
    }
   ],
   "source": [
    "# Write a py code that contain only uppercase latters , numbers , underscode \n",
    "import re\n",
    "def test(s):\n",
    "    patten = \"^[a-z]+[A-Z]+[0-9]+[_]+$\"\n",
    "    if re.search(patten,s):\n",
    "        return \"Found!!!!\"\n",
    "    else : \n",
    "        return \"Not Found!!!!\"\n",
    "print(test('Apple0_'))\n",
    "\n",
    "# Erroe in code"
   ]
  },
  {
   "cell_type": "code",
   "execution_count": null,
   "metadata": {},
   "outputs": [],
   "source": []
  }
 ],
 "metadata": {
  "kernelspec": {
   "display_name": "Python 3",
   "language": "python",
   "name": "python3"
  },
  "language_info": {
   "codemirror_mode": {
    "name": "ipython",
    "version": 3
   },
   "file_extension": ".py",
   "mimetype": "text/x-python",
   "name": "python",
   "nbconvert_exporter": "python",
   "pygments_lexer": "ipython3",
   "version": "3.8.5"
  }
 },
 "nbformat": 4,
 "nbformat_minor": 4
}
