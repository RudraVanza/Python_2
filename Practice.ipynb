{
 "cells": [
  {
   "cell_type": "code",
   "execution_count": null,
   "metadata": {},
   "outputs": [],
   "source": [
    "# Title:1 Optimizing Linear Regression Model to Predict Medical Insurance Charges Objective: To build and optimize a Linear Regression model that predicts a person's medical insurance charges based on demographic and health attributes, ensuring: Maximum R² Score (better prediction accuracy) Minimum Mean Squared Error (MSE) (lower prediction error) \n",
    "# Dataset: File: insurance.csv \n",
    "# The goal is to predict medical insurance charges using a Linear Regression model based on personal and health attributes like age, gender, BMI, smoking status, number of children, and region. \n",
    "# • The BMI values are first categorized into four groups: Underweight, Normal weight, Overweight, and Obese.  Different test sizes (0.1, 0.2, 0.3, 0.4, 0.5) and random states (1 to 49) are tried to find: The model with the highest R²  score (better prediction accuracy) The model with the lowest Mean Squared Error (MSE) (lower prediction error) \n",
    "# • After finding the best models, we predict the insurance charges for a new individual with specific given features (age 34, male, BMI 26, 3 children, smoker, southwest region).\n",
    "\n",
    "import pandas as pd\n",
    "from sklearn.model_selection import train_test_split\n",
    "from sklearn.linear_model import LinearRegression\n",
    "from sklearn.metrics import mean_squared_error , r2_score , mean_absolute_error\n",
    "\n",
    "df = pd.read_csv(\"insurance.csv\")\n",
    "df = pd.get_dummies(df , drop_first=True)\n",
    "\n",
    "y = df[\"charges\"]\n",
    "x = df.drop('charges',axis=1)\n",
    "\n",
    "T = [0.1, 0.2, 0.3, 0.4, 0.5]\n",
    "R2_score = []\n",
    "MSE = []\n",
    "\n",
    "for i in T:\n",
    "    for j in range(1,50):\n",
    "        x_train,x_test,y_train,y_test = train_test_split(x, y, test_size=i,random_state=j)\n",
    "        lr = LinearRegression()\n",
    "        lr.fit(x_train,y_train)\n",
    "        m = lr.coef_\n",
    "        c = lr.intercept_\n",
    "        y_pred = lr.predict(x_test)\n",
    "        mse = mean_squared_error(y_test,y_pred)\n",
    "        MSE.append(mse)\n",
    "        r2 = r2_score(y_test,y_pred)\n",
    "        R2_score.append(r2)\n",
    "        \n",
    "print(\"MSE :- \",MSE,\"\\n\")\n",
    "print(\"R2 Score :- \",R2_score,\"\\n\")\n",
    "print(len(MSE))\n",
    "print(len(R2_score))\n",
    "min1 = min(MSE)\n",
    "max1 = max(R2_score)\n",
    "print(\"Minimum MSE :- \",min1)\n",
    "print(\"Maximum R2_Score :- \",max1)"
   ]
  },
  {
   "cell_type": "code",
   "execution_count": null,
   "metadata": {},
   "outputs": [],
   "source": [
    "# Title:3 Problem Definition: The goal is to predict hotel booking status using the K-Nearest Neighbors (KNN) classification algorithm. The dataset is preprocessed by one-hot encoding categorical features. The data is split into training and testing sets (80%-20%). The model is optimized by trying different values of 'k' (1 to 20), selecting the one that gives the highest accuracy. Finally, the best KNN model is trained and evaluated to predict booking status effectively.\n",
    "from sklearn.metrics import confusion_matrix\n",
    "from sklearn.neighbors import KNeighborsClassifier\n",
    "\n",
    "df = pd.read_csv(\"Hotel Reservations.csv\")\n",
    "df = df.drop(\"Booking_ID\",axis=1)\n",
    "df = pd.get_dummies(df , drop_first=True)\n",
    "df\n",
    "y = df[['booking_status_Not_Canceled']]\n",
    "x = df.drop('booking_status_Not_Canceled',axis=1)\n",
    "print(x.shape)\n",
    "print(y.shape)\n",
    "acc = []\n",
    "for i in range(1,21):\n",
    "    x_train,x_test,y_train,y_test = train_test_split(x, y, test_size=0.2,random_state=42)\n",
    "    nn=KNeighborsClassifier(n_neighbors=i)\n",
    "    model=nn.fit(x_train,y_train)\n",
    "    y_pred=model.predict(x_test)\n",
    "    cm=confusion_matrix(y_test,y_pred)\n",
    "    tn = cm[0][0]\n",
    "    fp = cm[0][1]\n",
    "    tp = cm[1][1]\n",
    "    fn = cm[1][0]\n",
    "    ac = (tp+tn) / (tp+tn+fn+fp)\n",
    "    acc.append(ac)\n",
    "print(\"Acc :- \",acc,\"\\n\")\n"
   ]
  },
  {
   "cell_type": "code",
   "execution_count": null,
   "metadata": {},
   "outputs": [],
   "source": [
    "max = max(acc)\n",
    "print(\"max :- \",max)\n",
    "ind = acc.index(max)\n",
    "print(ind)"
   ]
  }
 ],
 "metadata": {
  "kernelspec": {
   "display_name": "base",
   "language": "python",
   "name": "python3"
  },
  "language_info": {
   "codemirror_mode": {
    "name": "ipython",
    "version": 3
   },
   "file_extension": ".py",
   "mimetype": "text/x-python",
   "name": "python",
   "nbconvert_exporter": "python",
   "pygments_lexer": "ipython3",
   "version": "3.8.5"
  }
 },
 "nbformat": 4,
 "nbformat_minor": 2
}
