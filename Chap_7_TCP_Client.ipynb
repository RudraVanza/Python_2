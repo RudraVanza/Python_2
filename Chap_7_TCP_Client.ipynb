{
 "cells": [
  {
   "cell_type": "code",
   "execution_count": 1,
   "metadata": {
    "slideshow": {
     "slide_type": "slide"
    }
   },
   "outputs": [
    {
     "name": "stdout",
     "output_type": "stream",
     "text": [
      "306E-25\n",
      "Enter Message ----> hyy\n",
      "Receive From Server :  bol\n",
      "Enter Message From Client ----> ny\n",
      "Receive From Server :  cd\n",
      "Enter Message From Client ----> bye\n"
     ]
    }
   ],
   "source": [
    "import socket\n",
    "host = socket.gethostname() #for othere pc enter their IP address\n",
    "print(host)\n",
    "port = 7\n",
    "client_socket = socket.socket()\n",
    "client_socket.connect((host,port))\n",
    "message = input(\"Enter Message ----> \")\n",
    "while message.lower().strip() != \"bye\" :\n",
    "    client_socket.send(message.encode())\n",
    "    data = client_socket.recv(1024).decode()\n",
    "    print(\"Receive From Server : \",data)\n",
    "    message = input(\"Enter Message From Client ----> \")\n",
    "client_socket.close()"
   ]
  }
 ],
 "metadata": {
  "kernelspec": {
   "display_name": "Python 3",
   "language": "python",
   "name": "python3"
  },
  "language_info": {
   "codemirror_mode": {
    "name": "ipython",
    "version": 3
   },
   "file_extension": ".py",
   "mimetype": "text/x-python",
   "name": "python",
   "nbconvert_exporter": "python",
   "pygments_lexer": "ipython3",
   "version": "3.8.5"
  }
 },
 "nbformat": 4,
 "nbformat_minor": 2
}
