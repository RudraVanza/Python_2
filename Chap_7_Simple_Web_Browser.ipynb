{
 "cells": [
  {
   "cell_type": "code",
   "execution_count": null,
   "metadata": {},
   "outputs": [],
   "source": [
    "# Online Google coleb\n",
    "import socket\n",
    "mysocket  = socket.socket()\n",
    "mysocket.connect((\"http://data.pr4e.org/\",80))\n",
    "url = \"GET http://data.pr4e.org/romeo.txt HTTP/1.0\\r\\n\\r\\n\".encode()\n",
    "mysocket.send(url)\n",
    "while True:\n",
    "    data = mysocket.recv(512).decode()\n",
    "    if not data :\n",
    "        break\n",
    "    print(data,end=\"\")\n",
    "mysocket.close()"
   ]
  }
 ],
 "metadata": {
  "kernelspec": {
   "display_name": "Python 3",
   "language": "python",
   "name": "python3"
  },
  "language_info": {
   "codemirror_mode": {
    "name": "ipython",
    "version": 3
   },
   "file_extension": ".py",
   "mimetype": "text/x-python",
   "name": "python",
   "nbconvert_exporter": "python",
   "pygments_lexer": "ipython3",
   "version": "3.12.6"
  }
 },
 "nbformat": 4,
 "nbformat_minor": 2
}
