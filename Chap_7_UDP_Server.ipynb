{
 "cells": [
  {
   "cell_type": "code",
   "execution_count": 1,
   "metadata": {},
   "outputs": [
    {
     "name": "stdout",
     "output_type": "stream",
     "text": [
      "Recive From Client :-  csml\n",
      "Recive From Client :-  kdv;\n",
      "Recive From Client :-  mvsdk\n"
     ]
    }
   ],
   "source": [
    "import socket\n",
    "host = socket.gethostname()\n",
    "port = 18\n",
    "server_socket = socket.socket(type=socket.SOCK_DGRAM)\n",
    "server_socket.bind((host,port))\n",
    "while True:\n",
    "    data , add = server_socket.recvfrom(1024)\n",
    "    if not data : \n",
    "        break\n",
    "    print(\"Recive From Client :- \",data.decode())\n",
    "    message = input(\"Enter Server Side Message Here :- \")\n",
    "    if not message :\n",
    "        break\n",
    "    server_socket.sendto(message.encode(),add)\n",
    "server_socket.close()"
   ]
  }
 ],
 "metadata": {
  "kernelspec": {
   "display_name": "base",
   "language": "python",
   "name": "python3"
  },
  "language_info": {
   "codemirror_mode": {
    "name": "ipython",
    "version": 3
   },
   "file_extension": ".py",
   "mimetype": "text/x-python",
   "name": "python",
   "nbconvert_exporter": "python",
   "pygments_lexer": "ipython3",
   "version": "3.8.5"
  }
 },
 "nbformat": 4,
 "nbformat_minor": 2
}
